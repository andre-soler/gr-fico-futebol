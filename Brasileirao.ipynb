import pandas as pd
import matplotlib.pyplot as plt
text_file = pd.read_csv('brasileirao_serie_a.csv', encoding='utf-8')
df = text_file
df
df.info()
df.head()
df.describe()
df_ordenado = df.sort_values(by='publico', ascending=False)

# Selecionar a primeira entrada do dataframe ordenado
partida_maior_publico = df_ordenado.iloc[0]

# Imprimir os detalhes da partida com o maior público
print("Detalhes da partida com o maior público:")
print(partida_maior_publico)

# Filtrar as partidas que ocorreram no estádio Allianz Parque
partidas_allianz_parque = df[df['estadio'] == 'Allianz Parque']

# Calcular a média de gols por partida
media_gols_allianz_parque = partidas_allianz_parque[['gols_mandante', 'gols_visitante']].mean().mean()

# Imprimir a média de gols por partida no Allianz Parque
print("Média de gols por partida no estádio Allianz Parque:", media_gols_allianz_parque)

# Contar o número de ocorrências de cada árbitro
arbitros_count = df['arbitro'].value_counts()

# Obter o árbitro com o maior número de ocorrências
arbitro_mais_ocorrencias = arbitros_count.idxmax()
ocorrencias_arbitro_mais = arbitros_count.max()

# Imprimir o árbitro com o maior número de ocorrências e quantas partidas ele apitou
print("Árbitro com mais ocorrências:", arbitro_mais_ocorrencias)
print("Número de partidas apitadas:", ocorrencias_arbitro_mais)

arbitros_count = df['arbitro'].value_counts()

# Obter o árbitro com o menor número de ocorrências
arbitro_menos_ocorrencias = arbitros_count.idxmin()
ocorrencias_arbitro_menos = arbitros_count.min()

# Imprimir o árbitro com o menor número de ocorrências e quantas partidas ele apitou
print("Árbitro com menos ocorrências:", arbitro_menos_ocorrencias)
print("Número de partidas apitadas:", ocorrencias_arbitro_menos)

partidas_visitantes_vitoria = df[df['gols_visitante'] > df['gols_mandante']]

# Calcular o número total de partidas e vitórias para cada técnico visitante
vitorias_por_tecnico_visitante = partidas_visitantes_vitoria['tecnico_visitante'].value_counts()
total_partidas_por_tecnico_visitante = df['tecnico_visitante'].value_counts()

# Calcular a taxa de vitória para cada técnico visitante
taxa_vitoria_por_tecnico_visitante = (vitorias_por_tecnico_visitante / total_partidas_por_tecnico_visitante).fillna(0)

# Ordenar os técnicos pela taxa de vitória em ordem decrescente
tecnicos_ordenados_por_taxa_vitoria = taxa_vitoria_por_tecnico_visitante.sort_values(ascending=False)

# Imprimir os cinco principais técnicos com a melhor taxa de vitória como visitantes
print("Top 5 técnicos com a melhor taxa de vitória como visitantes:")
print(tecnicos_ordenados_por_taxa_vitoria.head(10))

# Filtrar as partidas onde a equipe mandante venceu
partidas_mandantes_vitoria = df[df['gols_mandante'] > df['gols_visitante']]

# Calcular o número total de partidas e vitórias para cada técnico mandante
vitorias_por_tecnico_mandante = partidas_mandantes_vitoria['tecnico_mandante'].value_counts()
total_partidas_por_tecnico_mandante = df['tecnico_mandante'].value_counts()

# Calcular a taxa de vitória para cada técnico mandante
taxa_vitoria_por_tecnico_mandante = (vitorias_por_tecnico_mandante / total_partidas_por_tecnico_mandante).fillna(0)

# Filtrar os técnicos com taxa de vitória menor que 100%
tecnicos_com_taxa_menor_que_100 = taxa_vitoria_por_tecnico_mandante[taxa_vitoria_por_tecnico_mandante < 1]

# Ordenar os técnicos pela taxa de vitória em ordem decrescente
tecnicos_ordenados_por_taxa_vitoria = tecnicos_com_taxa_menor_que_100.sort_values(ascending=False)

# Selecionar os cinco primeiros técnicos
top5_tecnicos = tecnicos_ordenados_por_taxa_vitoria.head(10)

# Criar o gráfico de barras
plt.figure(figsize=(10, 6))
top5_tecnicos.plot(kind='bar', color='lightgreen')
plt.title('Top 5 Técnicos com Melhor Taxa de Vitória como Mandantes (Excluindo 100%)')
plt.xlabel('Técnico')
plt.ylabel('Taxa de Vitória')
plt.xticks(rotation=45)
plt.grid(axis='y', linestyle='--', alpha=0.7)
plt.tight_layout()
plt.show()

# Calcular o número total de vitórias para cada time
vitorias_time_mandante = df['time_mandante'][df['gols_mandante'] > df['gols_visitante']].value_counts()
vitorias_time_visitante = df['time_visitante'][df['gols_mandante'] < df['gols_visitante']].value_counts()
total_vitorias = vitorias_time_mandante.add(vitorias_time_visitante, fill_value=0)

# Selecionar os 10 primeiros times com mais vitórias
total_vitorias = total_vitorias.head(10)

# Criar o gráfico de pizza
plt.figure(figsize=(8, 8))
total_vitorias.plot(kind='pie', autopct='%1.1f%%', startangle=140)
plt.title('Distribuição de Vitórias entre os 10 Times com Mais Vitórias')
plt.axis('equal')  # Equal aspect ratio ensures that pie is drawn as a circle.
plt.tight_layout()
plt.show()

# Calcular o número total de vitórias para cada time
vitorias_time_mandante = df['time_mandante'][df['gols_mandante'] > df['gols_visitante']].value_counts()
vitorias_time_visitante = df['time_visitante'][df['gols_mandante'] < df['gols_visitante']].value_counts()
total_vitorias = vitorias_time_mandante.add(vitorias_time_visitante, fill_value=0)

# Selecionar os 10 primeiros times com mais vitórias
total_vitorias = total_vitorias.head(10)

# Criar subplots
fig, axs = plt.subplots(1, 2, figsize=(12, 6))

# Gráfico de colunas
axs[0].bar(total_vitorias.index, total_vitorias.values, color='skyblue')
axs[0].set_title('Número Total de Vitórias por Time')
axs[0].set_xlabel('Times')
axs[0].set_ylabel('Número de Vitórias')
axs[0].tick_params(axis='x', rotation=45)
axs[0].grid(True, linestyle='--', alpha=0.7)

# Gráfico de pizza
axs[1].pie(total_vitorias, labels=total_vitorias.index, autopct='%1.1f%%', startangle=140)
axs[1].set_title('Distribuição de Vitórias entre os 10 Times com Mais Vitórias')

# Ajustar layout
plt.tight_layout()
plt.show()
